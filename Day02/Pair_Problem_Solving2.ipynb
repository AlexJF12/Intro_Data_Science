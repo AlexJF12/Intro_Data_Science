{
 "cells": [
  {
   "cell_type": "code",
   "execution_count": 10,
   "metadata": {},
   "outputs": [
    {
     "name": "stdout",
     "output_type": "stream",
     "text": [
      "1  is odd\n",
      "3  is odd\n",
      "5  high five\n",
      "7  is odd\n",
      "9  is odd\n",
      "11  is odd\n",
      "13  is odd\n",
      "14 is div by 14\n",
      "15  high five\n",
      "17  is odd\n",
      "19  is odd\n",
      "21  is odd\n",
      "23  is odd\n",
      "25  high five\n",
      "27  is odd\n",
      "28 is div by 14\n",
      "29  is odd\n",
      "31  is odd\n",
      "32 this happen twice\n",
      "33  is odd\n",
      "35  high five\n",
      "37  is odd\n",
      "39  is odd\n",
      "40 this happen twice\n",
      "41  is odd\n",
      "42 is div by 14\n",
      "43  is odd\n",
      "45  high five\n",
      "47  is odd\n",
      "49  is odd\n",
      "51  is odd\n",
      "53  is odd\n",
      "55  high five\n",
      "56 is div by 14\n",
      "57  is odd\n",
      "59  is odd\n",
      "61  is odd\n",
      "63  is odd\n",
      "65  high five\n",
      "67  is odd\n",
      "69  is odd\n",
      "70 is div by 14\n",
      "71  is odd\n",
      "73  is odd\n",
      "75  high five\n",
      "77  is odd\n",
      "79  is odd\n",
      "81  is odd\n",
      "83  is odd\n",
      "84 is div by 14\n",
      "85  high five\n",
      "87  is odd\n",
      "89  is odd\n",
      "91  is odd\n",
      "93  is odd\n",
      "95  high five\n",
      "97  is odd\n",
      "98 is div by 14\n",
      "99  is odd\n"
     ]
    }
   ],
   "source": [
    "for i in range(1,101):\n",
    "    if(i % 5 ==0) and  (i % 2 ==1):\n",
    "        print (i, ' high five')\n",
    "    elif (i % 2==1):\n",
    "        print (i,' is odd')\n",
    "    elif (i % 2 == 0) and (i %7 == 0):\n",
    "        print (i, 'is div by 14')\n",
    "    elif i > 30 and i < 45 and  (i % 8==0):\n",
    "        print (i, 'this happen twice')"
   ]
  },
  {
   "cell_type": "code",
   "execution_count": null,
   "metadata": {},
   "outputs": [],
   "source": [
    "de"
   ]
  }
 ],
 "metadata": {
  "kernelspec": {
   "display_name": "Python 3",
   "language": "python",
   "name": "python3"
  },
  "language_info": {
   "codemirror_mode": {
    "name": "ipython",
    "version": 3
   },
   "file_extension": ".py",
   "mimetype": "text/x-python",
   "name": "python",
   "nbconvert_exporter": "python",
   "pygments_lexer": "ipython3",
   "version": "3.6.5"
  }
 },
 "nbformat": 4,
 "nbformat_minor": 2
}
