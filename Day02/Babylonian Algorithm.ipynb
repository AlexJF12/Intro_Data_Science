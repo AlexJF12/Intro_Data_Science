{
 "cells": [
  {
   "cell_type": "markdown",
   "metadata": {},
   "source": [
    "### Wikipedia's Description:\n",
    "Perhaps the first algorithm used for approximating $\\sqrt{S}$ is known as the Babylonian method, named after the Babylonians,[1] or \"Heron's method\", named after the first-century Greek mathematician Hero of Alexandria who gave the first explicit description of the method.[2] It can be derived from (but predates by 16 centuries) Newton's method. The basic idea is that if x is an overestimate to the square root of a non-negative real number S then \n",
    "S\n",
    "/\n",
    "x\n",
    " will be an underestimate, or vice versa, and so the average of these two numbers may reasonably be expected to provide a better approximation (though the formal proof of that assertion depends on the inequality of arithmetic and geometric means that shows this average is always an overestimate of the square root, as noted in the article on square roots, thus assuring convergence).\n",
    " \n",
    " Since the computed error was not exact, this becomes our next best guess. The process of updating is iterated until desired accuracy is obtained. This is a quadratically convergent algorithm, which means that the number of correct digits of the approximation roughly doubles with each iteration. It proceeds as follows:\n",
    "\n",
    "1. Begin with an arbitrary positive starting value $x_0$ (the closer to the actual square root of S, the better).\n",
    "2. Let $x_{n+1} = 1/2(x_n+ S/x_n)$\n",
    " (using the arithmetic mean to approximate the geometric mean).\n",
    "3. Repeat step 2 until the desired accuracy is achieved.\n",
    "."
   ]
  },
  {
   "cell_type": "code",
   "execution_count": 1,
   "metadata": {},
   "outputs": [
    {
     "name": "stdout",
     "output_type": "stream",
     "text": [
      "After iteration 0 the current approximation of the square root of 16 is: 4.166666666666666\n",
      "After iteration 1 the current approximation of the square root of 16 is: 4.003333333333334\n",
      "After iteration 2 the current approximation of the square root of 16 is: 4.000001387732445\n",
      "After iteration 3 the current approximation of the square root of 16 is: 4.000000000000241\n",
      "After iteration 4 the current approximation of the square root of 16 is: 4.0\n",
      "After iteration 5 the current approximation of the square root of 16 is: 4.0\n",
      "After iteration 6 the current approximation of the square root of 16 is: 4.0\n",
      "After iteration 7 the current approximation of the square root of 16 is: 4.0\n",
      "After iteration 8 the current approximation of the square root of 16 is: 4.0\n",
      "After iteration 9 the current approximation of the square root of 16 is: 4.0\n"
     ]
    }
   ],
   "source": [
    "#Calculate the square root of 16.\n",
    "\n",
    "s = 16 #The number we're approximating the square root of\n",
    "x = 3 #Our Starting guess\n",
    "\n",
    "#We're looking for the value of x such that x*x=16.\n",
    "for i in range(10):\n",
    "    x = 0.5*(x + s/x)\n",
    "    print('After iteration {} the current approximation of the square root of {} is: {}'.format(i, s, x))\n"
   ]
  },
  {
   "cell_type": "code",
   "execution_count": 2,
   "metadata": {},
   "outputs": [],
   "source": [
    "def approximate_sqrt(s, x, iterations=100):\n",
    "    \"\"\"s is the number that you are calculating the square root of. x is the initial guess.\"\"\"\n",
    "    for i in range(iterations):\n",
    "        x = 0.5*(x + s/x)\n",
    "    print('The square root is approximately: {}'.format(x))"
   ]
  },
  {
   "cell_type": "code",
   "execution_count": 4,
   "metadata": {},
   "outputs": [
    {
     "name": "stdout",
     "output_type": "stream",
     "text": [
      "The square root is approximately: 5.0\n"
     ]
    }
   ],
   "source": [
    "approximate_sqrt(25, 8)"
   ]
  },
  {
   "cell_type": "code",
   "execution_count": 5,
   "metadata": {},
   "outputs": [
    {
     "name": "stdout",
     "output_type": "stream",
     "text": [
      "The square root is approximately: 6.0\n"
     ]
    }
   ],
   "source": [
    "approximate_sqrt(36, 8)"
   ]
  },
  {
   "cell_type": "code",
   "execution_count": 6,
   "metadata": {},
   "outputs": [
    {
     "name": "stdout",
     "output_type": "stream",
     "text": [
      "The square root is approximately: 4.69041575982343\n"
     ]
    }
   ],
   "source": [
    "approximate_sqrt(22, 8)"
   ]
  },
  {
   "cell_type": "code",
   "execution_count": 19,
   "metadata": {},
   "outputs": [],
   "source": [
    "def approximate_sqrt(s, x, iterations=100, precision = 0.00001):\n",
    "    \"\"\"s is the number that you are calculating the square root of. x is the initial guess.\"\"\"\n",
    "    for i in range(iterations):\n",
    "        prev_x = x\n",
    "        x = 0.5*(x + s/x)\n",
    "        if prev_x - x < precision:\n",
    "            print('The algorithm converged after {} iterations. The square root is approximately: {}'.format(i, x))\n",
    "            return None #A return statement will always cause a function to terminate. Alternatively, we could use break\n",
    "    print('The square root is approximately: {}'.format(x))"
   ]
  },
  {
   "cell_type": "code",
   "execution_count": 20,
   "metadata": {},
   "outputs": [
    {
     "name": "stdout",
     "output_type": "stream",
     "text": [
      "The algorithm converged after 4 iterations. The square root is approximately: 5.0\n"
     ]
    }
   ],
   "source": [
    "approximate_sqrt(25, 8)"
   ]
  },
  {
   "cell_type": "markdown",
   "metadata": {},
   "source": [
    "### Challenge\n",
    "Look at how easy it is to make scatter plots!\n",
    "Update the Babylonian function algorith to plot how the algorithm converges. Plot the iteration numbers on the x-axis and the current approximation for that iteration on the y-axis."
   ]
  },
  {
   "cell_type": "code",
   "execution_count": 21,
   "metadata": {},
   "outputs": [],
   "source": [
    "import matplotlib.pyplot as plt\n",
    "%matplotlib inline"
   ]
  },
  {
   "cell_type": "code",
   "execution_count": 24,
   "metadata": {},
   "outputs": [
    {
     "data": {
      "text/plain": [
       "<matplotlib.collections.PathCollection at 0x112aa2fd0>"
      ]
     },
     "execution_count": 24,
     "metadata": {},
     "output_type": "execute_result"
    },
    {
     "data": {
      "image/png": "[encoded data removed]",
      "text/plain": [
       "<Figure size 432x288 with 1 Axes>"
      ]
     },
     "metadata": {},
     "output_type": "display_data"
    }
   ],
   "source": [
    "x = list(range(-25, 25))\n",
    "plt.scatter(x, [xi**2 for xi in x])"
   ]
  },
  {
   "cell_type": "code",
   "execution_count": null,
   "metadata": {},
   "outputs": [],
   "source": []
  }
 ],
 "metadata": {
  "kernelspec": {
   "display_name": "Python 3",
   "language": "python",
   "name": "python3"
  },
  "language_info": {
   "codemirror_mode": {
    "name": "ipython",
    "version": 3
   },
   "file_extension": ".py",
   "mimetype": "text/x-python",
   "name": "python",
   "nbconvert_exporter": "python",
   "pygments_lexer": "ipython3",
   "version": "3.6.5"
  }
 },
 "nbformat": 4,
 "nbformat_minor": 2
}
